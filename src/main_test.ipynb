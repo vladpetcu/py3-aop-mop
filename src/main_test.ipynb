{
 "cells": [
  {
   "cell_type": "code",
   "execution_count": 1,
   "metadata": {},
   "outputs": [
    {
     "name": "stdout",
     "output_type": "stream",
     "text": [
      "before calling (<some_class.some_class.SomeClass object at 0x7f5c261b91f0>,) type: <class 'tuple'>\n",
      "SomeClass: method_one\n",
      "after call\n",
      "\n",
      "before calling <function SomeClass.method_two at 0x7f5c26179310> type: <class 'function'>\n",
      "\n",
      "before calling, initial params: calling_params\n",
      "SomeClass: method_three another_calling_params\n",
      "after call\n",
      "\n",
      "before calling\n",
      "another_return_value\n",
      "\n",
      "\u001b[32mI am green\n",
      "\u001b[37m\n",
      "SomeClass: method_with_debugger done\n",
      "\n",
      "Exiting Sage (CPU time 0m0.34s, Wall time 5m51.72s).\n"
     ]
    }
   ],
   "source": [
    "# automatically restart the kernel\n",
    "import IPython\n",
    "IPython.Application.instance().kernel.do_shutdown(True)\n",
    "\n",
    "# autoreload python modules\n",
    "%reload_ext autoreload\n",
    "%autoreload 2\n",
    "\n",
    "# import python modules\n",
    "import aop\n",
    "from some_class import SomeClass\n",
    "\n",
    "\n",
    "some_instance = SomeClass(3, 2)\n",
    "some_instance.method_one()\n",
    "print()\n",
    "\n",
    "some_instance.method_two()\n",
    "print()\n",
    "\n",
    "some_instance.method_three('calling_params')\n",
    "print()\n",
    "\n",
    "meth_four_result = some_instance.method_four()\n",
    "print(meth_four_result)\n",
    "print()\n",
    "\n",
    "some_instance.method_with_green()\n",
    "print()\n",
    "\n",
    "some_instance.method_with_debugger()\n",
    "print()\n",
    "\n",
    "some_instance.method_with_loop()\n"
   ]
  }
 ],
 "metadata": {
  "kernelspec": {
   "display_name": "SageMath 9.4",
   "language": "sage",
   "name": "sagemath"
  },
  "language_info": {
   "codemirror_mode": {
    "name": "ipython",
    "version": 3
   },
   "file_extension": ".py",
   "mimetype": "text/x-python",
   "name": "python",
   "nbconvert_exporter": "python",
   "pygments_lexer": "ipython3",
   "version": "3.9.5"
  },
  "orig_nbformat": 4
 },
 "nbformat": 4,
 "nbformat_minor": 2
}
